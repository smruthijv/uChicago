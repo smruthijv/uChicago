{
 "cells": [
  {
   "cell_type": "code",
   "execution_count": 147,
   "id": "9ba28241",
   "metadata": {},
   "outputs": [],
   "source": [
    "# Program to analyse Customer dataset\n",
    "#\n",
    "# Smruthi Javagal Vasudeva\n",
    "# \n",
    "# For demonstration purposes only\n",
    "\n",
    "import pandas as pd\n",
    "import numpy as np\n",
    "import matplotlib.pyplot as plt\n",
    "import geopandas as gpd\n",
    "from shapely.geometry import Point"
   ]
  },
  {
   "cell_type": "code",
   "execution_count": 148,
   "id": "0a139586",
   "metadata": {},
   "outputs": [],
   "source": [
    "# Ingesting customer dataset from csv format (Source : Smruthi Sales)\n",
    "cust_df = pd.read_csv('../data/Customer.csv')"
   ]
  },
  {
   "cell_type": "code",
   "execution_count": 149,
   "id": "fe2343da",
   "metadata": {},
   "outputs": [
    {
     "data": {
      "text/html": [
       "<div>\n",
       "<style scoped>\n",
       "    .dataframe tbody tr th:only-of-type {\n",
       "        vertical-align: middle;\n",
       "    }\n",
       "\n",
       "    .dataframe tbody tr th {\n",
       "        vertical-align: top;\n",
       "    }\n",
       "\n",
       "    .dataframe thead th {\n",
       "        text-align: right;\n",
       "    }\n",
       "</style>\n",
       "<table border=\"1\" class=\"dataframe\">\n",
       "  <thead>\n",
       "    <tr style=\"text-align: right;\">\n",
       "      <th></th>\n",
       "      <th>S No</th>\n",
       "      <th>Outlet Id</th>\n",
       "      <th>Outlet Name</th>\n",
       "      <th>Outlet Status</th>\n",
       "      <th>Erp Id</th>\n",
       "      <th>User ID</th>\n",
       "      <th>User Name</th>\n",
       "      <th>Outlet Address</th>\n",
       "      <th>Area</th>\n",
       "      <th>Warehouse</th>\n",
       "      <th>...</th>\n",
       "      <th>Business Proof</th>\n",
       "      <th>ID Number</th>\n",
       "      <th>Upload Image of ID Proof</th>\n",
       "      <th>DL Expiry Date</th>\n",
       "      <th>Territory</th>\n",
       "      <th>Event Type</th>\n",
       "      <th>GL Account Code Credit</th>\n",
       "      <th>Territory When Direct</th>\n",
       "      <th>Territory When Super</th>\n",
       "      <th>Registration No</th>\n",
       "    </tr>\n",
       "  </thead>\n",
       "  <tbody>\n",
       "    <tr>\n",
       "      <th>0</th>\n",
       "      <td>1</td>\n",
       "      <td>150345</td>\n",
       "      <td>Seetharam medical stores</td>\n",
       "      <td>Active</td>\n",
       "      <td>NaN</td>\n",
       "      <td>2004</td>\n",
       "      <td>M Pradeep</td>\n",
       "      <td>Opposite KSRTC Bustand NT Road</td>\n",
       "      <td>1100730887_ASI 1</td>\n",
       "      <td>SMRUTHI SALES</td>\n",
       "      <td>...</td>\n",
       "      <td>NaN</td>\n",
       "      <td>NaN</td>\n",
       "      <td>NaN</td>\n",
       "      <td>NaN</td>\n",
       "      <td>NaN</td>\n",
       "      <td>NaN</td>\n",
       "      <td>NaN</td>\n",
       "      <td>NaN</td>\n",
       "      <td>NaN</td>\n",
       "      <td>NaN</td>\n",
       "    </tr>\n",
       "    <tr>\n",
       "      <th>1</th>\n",
       "      <td>2</td>\n",
       "      <td>150421</td>\n",
       "      <td>shetty medicals Stores</td>\n",
       "      <td>Active</td>\n",
       "      <td>NaN</td>\n",
       "      <td>2004</td>\n",
       "      <td>M Pradeep</td>\n",
       "      <td>Neela Prastha kasetty Building BH Road shimoga</td>\n",
       "      <td>SMRUTHI SALES</td>\n",
       "      <td>SMRUTHI SALES</td>\n",
       "      <td>...</td>\n",
       "      <td>NaN</td>\n",
       "      <td>NaN</td>\n",
       "      <td>NaN</td>\n",
       "      <td>NaN</td>\n",
       "      <td>NaN</td>\n",
       "      <td>NaN</td>\n",
       "      <td>NaN</td>\n",
       "      <td>NaN</td>\n",
       "      <td>NaN</td>\n",
       "      <td>NaN</td>\n",
       "    </tr>\n",
       "    <tr>\n",
       "      <th>2</th>\n",
       "      <td>3</td>\n",
       "      <td>150480</td>\n",
       "      <td>Sri Seetharam Medicals</td>\n",
       "      <td>Active</td>\n",
       "      <td>NaN</td>\n",
       "      <td>2004</td>\n",
       "      <td>M Pradeep</td>\n",
       "      <td>Hanumanthappa Arcade Near Vinayaka Talkes BH R...</td>\n",
       "      <td>1100730887_ASI 1</td>\n",
       "      <td>SMRUTHI SALES</td>\n",
       "      <td>...</td>\n",
       "      <td>NaN</td>\n",
       "      <td>NaN</td>\n",
       "      <td>NaN</td>\n",
       "      <td>NaN</td>\n",
       "      <td>NaN</td>\n",
       "      <td>NaN</td>\n",
       "      <td>NaN</td>\n",
       "      <td>NaN</td>\n",
       "      <td>NaN</td>\n",
       "      <td>NaN</td>\n",
       "    </tr>\n",
       "    <tr>\n",
       "      <th>3</th>\n",
       "      <td>4</td>\n",
       "      <td>151295</td>\n",
       "      <td>Amrutha Medicals</td>\n",
       "      <td>Active</td>\n",
       "      <td>NaN</td>\n",
       "      <td>2004</td>\n",
       "      <td>M Pradeep</td>\n",
       "      <td>Tank mohalla Shimoga</td>\n",
       "      <td>1100730887_ASI 1</td>\n",
       "      <td>SMRUTHI SALES</td>\n",
       "      <td>...</td>\n",
       "      <td>NaN</td>\n",
       "      <td>NaN</td>\n",
       "      <td>NaN</td>\n",
       "      <td>NaN</td>\n",
       "      <td>NaN</td>\n",
       "      <td>NaN</td>\n",
       "      <td>NaN</td>\n",
       "      <td>NaN</td>\n",
       "      <td>NaN</td>\n",
       "      <td>NaN</td>\n",
       "    </tr>\n",
       "    <tr>\n",
       "      <th>4</th>\n",
       "      <td>5</td>\n",
       "      <td>151306</td>\n",
       "      <td>Joshi Medicals</td>\n",
       "      <td>Active</td>\n",
       "      <td>NaN</td>\n",
       "      <td>2004</td>\n",
       "      <td>M Pradeep</td>\n",
       "      <td>Opposite Shimoga Rice mill 9Th cross Bapuji Na...</td>\n",
       "      <td>1100730887_ASI 1</td>\n",
       "      <td>SMRUTHI SALES</td>\n",
       "      <td>...</td>\n",
       "      <td>NaN</td>\n",
       "      <td>NaN</td>\n",
       "      <td>NaN</td>\n",
       "      <td>NaN</td>\n",
       "      <td>NaN</td>\n",
       "      <td>NaN</td>\n",
       "      <td>NaN</td>\n",
       "      <td>NaN</td>\n",
       "      <td>NaN</td>\n",
       "      <td>NaN</td>\n",
       "    </tr>\n",
       "  </tbody>\n",
       "</table>\n",
       "<p>5 rows × 59 columns</p>\n",
       "</div>"
      ],
      "text/plain": [
       "   S No  Outlet Id               Outlet Name Outlet Status  Erp Id  User ID  \\\n",
       "0     1     150345  Seetharam medical stores        Active     NaN     2004   \n",
       "1     2     150421    shetty medicals Stores        Active     NaN     2004   \n",
       "2     3     150480    Sri Seetharam Medicals        Active     NaN     2004   \n",
       "3     4     151295          Amrutha Medicals        Active     NaN     2004   \n",
       "4     5     151306            Joshi Medicals        Active     NaN     2004   \n",
       "\n",
       "   User Name                                     Outlet Address  \\\n",
       "0  M Pradeep                     Opposite KSRTC Bustand NT Road   \n",
       "1  M Pradeep     Neela Prastha kasetty Building BH Road shimoga   \n",
       "2  M Pradeep  Hanumanthappa Arcade Near Vinayaka Talkes BH R...   \n",
       "3  M Pradeep                               Tank mohalla Shimoga   \n",
       "4  M Pradeep  Opposite Shimoga Rice mill 9Th cross Bapuji Na...   \n",
       "\n",
       "               Area      Warehouse  ... Business Proof ID Number  \\\n",
       "0  1100730887_ASI 1  SMRUTHI SALES  ...            NaN       NaN   \n",
       "1     SMRUTHI SALES  SMRUTHI SALES  ...            NaN       NaN   \n",
       "2  1100730887_ASI 1  SMRUTHI SALES  ...            NaN       NaN   \n",
       "3  1100730887_ASI 1  SMRUTHI SALES  ...            NaN       NaN   \n",
       "4  1100730887_ASI 1  SMRUTHI SALES  ...            NaN       NaN   \n",
       "\n",
       "   Upload Image of ID Proof  DL Expiry Date  Territory Event Type  \\\n",
       "0                       NaN             NaN        NaN        NaN   \n",
       "1                       NaN             NaN        NaN        NaN   \n",
       "2                       NaN             NaN        NaN        NaN   \n",
       "3                       NaN             NaN        NaN        NaN   \n",
       "4                       NaN             NaN        NaN        NaN   \n",
       "\n",
       "  GL Account Code Credit  Territory When Direct  Territory When Super  \\\n",
       "0                    NaN                    NaN                   NaN   \n",
       "1                    NaN                    NaN                   NaN   \n",
       "2                    NaN                    NaN                   NaN   \n",
       "3                    NaN                    NaN                   NaN   \n",
       "4                    NaN                    NaN                   NaN   \n",
       "\n",
       "  Registration No  \n",
       "0             NaN  \n",
       "1             NaN  \n",
       "2             NaN  \n",
       "3             NaN  \n",
       "4             NaN  \n",
       "\n",
       "[5 rows x 59 columns]"
      ]
     },
     "execution_count": 149,
     "metadata": {},
     "output_type": "execute_result"
    }
   ],
   "source": [
    "cust_df.head()"
   ]
  },
  {
   "cell_type": "code",
   "execution_count": 150,
   "id": "e6ee5267",
   "metadata": {},
   "outputs": [],
   "source": [
    "def remove_null_values(df, key_column):\n",
    "    '''Removes rows with null key column and columns with all null values\n",
    "       Input : Dataframe, Key Column\n",
    "    '''\n",
    "    df.dropna(subset=[key_column], inplace=True)\n",
    "    df.dropna(axis=1, inplace=True, how='all')\n",
    "    # Replacing nulls in the dataframe with empty string\n",
    "    cust_df.fillna(\"\", inplace=True)\n",
    "\n",
    "#function call\n",
    "remove_null_values(cust_df,'Outlet Id')"
   ]
  },
  {
   "cell_type": "code",
   "execution_count": 151,
   "id": "b963e1b9",
   "metadata": {},
   "outputs": [
    {
     "data": {
      "text/html": [
       "<div>\n",
       "<style scoped>\n",
       "    .dataframe tbody tr th:only-of-type {\n",
       "        vertical-align: middle;\n",
       "    }\n",
       "\n",
       "    .dataframe tbody tr th {\n",
       "        vertical-align: top;\n",
       "    }\n",
       "\n",
       "    .dataframe thead th {\n",
       "        text-align: right;\n",
       "    }\n",
       "</style>\n",
       "<table border=\"1\" class=\"dataframe\">\n",
       "  <thead>\n",
       "    <tr style=\"text-align: right;\">\n",
       "      <th></th>\n",
       "      <th>S No</th>\n",
       "      <th>Outlet Id</th>\n",
       "      <th>Outlet Name</th>\n",
       "      <th>Outlet Status</th>\n",
       "      <th>User ID</th>\n",
       "      <th>User Name</th>\n",
       "      <th>Outlet Address</th>\n",
       "      <th>Area</th>\n",
       "      <th>Warehouse</th>\n",
       "      <th>ZONE</th>\n",
       "      <th>...</th>\n",
       "      <th>Outlet Image url</th>\n",
       "      <th>Upload Shop Board Photo</th>\n",
       "      <th>Upload Inside of Store Photo</th>\n",
       "      <th>DL No 1</th>\n",
       "      <th>DL No 2</th>\n",
       "      <th>Capture Latest HUL Bill Image</th>\n",
       "      <th>HUL Outlet Code</th>\n",
       "      <th>Upload Shop Board Photo</th>\n",
       "      <th>Business Proof</th>\n",
       "      <th>Upload Image of ID Proof</th>\n",
       "    </tr>\n",
       "  </thead>\n",
       "  <tbody>\n",
       "    <tr>\n",
       "      <th>0</th>\n",
       "      <td>1</td>\n",
       "      <td>150345</td>\n",
       "      <td>Seetharam medical stores</td>\n",
       "      <td>Active</td>\n",
       "      <td>2004</td>\n",
       "      <td>M Pradeep</td>\n",
       "      <td>Opposite KSRTC Bustand NT Road</td>\n",
       "      <td>1100730887_ASI 1</td>\n",
       "      <td>SMRUTHI SALES</td>\n",
       "      <td>South</td>\n",
       "      <td>...</td>\n",
       "      <td></td>\n",
       "      <td>https://outletimages.s3.ap-southeast-1.amazona...</td>\n",
       "      <td>https://outletimages.s3.ap-southeast-1.amazona...</td>\n",
       "      <td>KA SG1 193265</td>\n",
       "      <td>KA SG1 193266</td>\n",
       "      <td>https://s3-ap-southeast-1.amazonaws.com/outlet...</td>\n",
       "      <td></td>\n",
       "      <td></td>\n",
       "      <td></td>\n",
       "      <td></td>\n",
       "    </tr>\n",
       "    <tr>\n",
       "      <th>1</th>\n",
       "      <td>2</td>\n",
       "      <td>150421</td>\n",
       "      <td>shetty medicals Stores</td>\n",
       "      <td>Active</td>\n",
       "      <td>2004</td>\n",
       "      <td>M Pradeep</td>\n",
       "      <td>Neela Prastha kasetty Building BH Road shimoga</td>\n",
       "      <td>SMRUTHI SALES</td>\n",
       "      <td>SMRUTHI SALES</td>\n",
       "      <td>South</td>\n",
       "      <td>...</td>\n",
       "      <td></td>\n",
       "      <td>https://outletimages.s3.ap-southeast-1.amazona...</td>\n",
       "      <td>https://outletimages.s3.ap-southeast-1.amazona...</td>\n",
       "      <td>Ka sg1 231219</td>\n",
       "      <td>Ka sg1 231220</td>\n",
       "      <td></td>\n",
       "      <td></td>\n",
       "      <td></td>\n",
       "      <td></td>\n",
       "      <td></td>\n",
       "    </tr>\n",
       "    <tr>\n",
       "      <th>2</th>\n",
       "      <td>3</td>\n",
       "      <td>150480</td>\n",
       "      <td>Sri Seetharam Medicals</td>\n",
       "      <td>Active</td>\n",
       "      <td>2004</td>\n",
       "      <td>M Pradeep</td>\n",
       "      <td>Hanumanthappa Arcade Near Vinayaka Talkes BH R...</td>\n",
       "      <td>1100730887_ASI 1</td>\n",
       "      <td>SMRUTHI SALES</td>\n",
       "      <td>South</td>\n",
       "      <td>...</td>\n",
       "      <td></td>\n",
       "      <td>https://outletimages.s3.ap-southeast-1.amazona...</td>\n",
       "      <td>https://outletimages.s3.ap-southeast-1.amazona...</td>\n",
       "      <td>KA SMG 20/21/949</td>\n",
       "      <td>KA SMG 20/21/949</td>\n",
       "      <td></td>\n",
       "      <td></td>\n",
       "      <td></td>\n",
       "      <td></td>\n",
       "      <td></td>\n",
       "    </tr>\n",
       "    <tr>\n",
       "      <th>3</th>\n",
       "      <td>4</td>\n",
       "      <td>151295</td>\n",
       "      <td>Amrutha Medicals</td>\n",
       "      <td>Active</td>\n",
       "      <td>2004</td>\n",
       "      <td>M Pradeep</td>\n",
       "      <td>Tank mohalla Shimoga</td>\n",
       "      <td>1100730887_ASI 1</td>\n",
       "      <td>SMRUTHI SALES</td>\n",
       "      <td>South</td>\n",
       "      <td>...</td>\n",
       "      <td></td>\n",
       "      <td>https://outletimages.s3.ap-southeast-1.amazona...</td>\n",
       "      <td>https://outletimages.s3.ap-southeast-1.amazona...</td>\n",
       "      <td>KA/SMG/20/21/737</td>\n",
       "      <td>KA/SMG/20/21/737</td>\n",
       "      <td></td>\n",
       "      <td></td>\n",
       "      <td></td>\n",
       "      <td></td>\n",
       "      <td></td>\n",
       "    </tr>\n",
       "    <tr>\n",
       "      <th>4</th>\n",
       "      <td>5</td>\n",
       "      <td>151306</td>\n",
       "      <td>Joshi Medicals</td>\n",
       "      <td>Active</td>\n",
       "      <td>2004</td>\n",
       "      <td>M Pradeep</td>\n",
       "      <td>Opposite Shimoga Rice mill 9Th cross Bapuji Na...</td>\n",
       "      <td>1100730887_ASI 1</td>\n",
       "      <td>SMRUTHI SALES</td>\n",
       "      <td>South</td>\n",
       "      <td>...</td>\n",
       "      <td></td>\n",
       "      <td>https://outletimages.s3.ap-southeast-1.amazona...</td>\n",
       "      <td>https://outletimages.s3.ap-southeast-1.amazona...</td>\n",
       "      <td>KA SG1 241148</td>\n",
       "      <td>KA SG1 241149</td>\n",
       "      <td></td>\n",
       "      <td></td>\n",
       "      <td></td>\n",
       "      <td></td>\n",
       "      <td></td>\n",
       "    </tr>\n",
       "  </tbody>\n",
       "</table>\n",
       "<p>5 rows × 41 columns</p>\n",
       "</div>"
      ],
      "text/plain": [
       "   S No  Outlet Id               Outlet Name Outlet Status  User ID  \\\n",
       "0     1     150345  Seetharam medical stores        Active     2004   \n",
       "1     2     150421    shetty medicals Stores        Active     2004   \n",
       "2     3     150480    Sri Seetharam Medicals        Active     2004   \n",
       "3     4     151295          Amrutha Medicals        Active     2004   \n",
       "4     5     151306            Joshi Medicals        Active     2004   \n",
       "\n",
       "   User Name                                     Outlet Address  \\\n",
       "0  M Pradeep                     Opposite KSRTC Bustand NT Road   \n",
       "1  M Pradeep     Neela Prastha kasetty Building BH Road shimoga   \n",
       "2  M Pradeep  Hanumanthappa Arcade Near Vinayaka Talkes BH R...   \n",
       "3  M Pradeep                               Tank mohalla Shimoga   \n",
       "4  M Pradeep  Opposite Shimoga Rice mill 9Th cross Bapuji Na...   \n",
       "\n",
       "               Area      Warehouse   ZONE  ... Outlet Image url  \\\n",
       "0  1100730887_ASI 1  SMRUTHI SALES  South  ...                    \n",
       "1     SMRUTHI SALES  SMRUTHI SALES  South  ...                    \n",
       "2  1100730887_ASI 1  SMRUTHI SALES  South  ...                    \n",
       "3  1100730887_ASI 1  SMRUTHI SALES  South  ...                    \n",
       "4  1100730887_ASI 1  SMRUTHI SALES  South  ...                    \n",
       "\n",
       "                             Upload Shop Board Photo  \\\n",
       "0  https://outletimages.s3.ap-southeast-1.amazona...   \n",
       "1  https://outletimages.s3.ap-southeast-1.amazona...   \n",
       "2  https://outletimages.s3.ap-southeast-1.amazona...   \n",
       "3  https://outletimages.s3.ap-southeast-1.amazona...   \n",
       "4  https://outletimages.s3.ap-southeast-1.amazona...   \n",
       "\n",
       "                        Upload Inside of Store Photo           DL No 1  \\\n",
       "0  https://outletimages.s3.ap-southeast-1.amazona...     KA SG1 193265   \n",
       "1  https://outletimages.s3.ap-southeast-1.amazona...     Ka sg1 231219   \n",
       "2  https://outletimages.s3.ap-southeast-1.amazona...  KA SMG 20/21/949   \n",
       "3  https://outletimages.s3.ap-southeast-1.amazona...  KA/SMG/20/21/737   \n",
       "4  https://outletimages.s3.ap-southeast-1.amazona...     KA SG1 241148   \n",
       "\n",
       "            DL No 2                      Capture Latest HUL Bill Image  \\\n",
       "0     KA SG1 193266  https://s3-ap-southeast-1.amazonaws.com/outlet...   \n",
       "1     Ka sg1 231220                                                      \n",
       "2  KA SMG 20/21/949                                                      \n",
       "3  KA/SMG/20/21/737                                                      \n",
       "4     KA SG1 241149                                                      \n",
       "\n",
       "  HUL Outlet Code Upload Shop Board Photo  Business Proof  \\\n",
       "0                                                           \n",
       "1                                                           \n",
       "2                                                           \n",
       "3                                                           \n",
       "4                                                           \n",
       "\n",
       "   Upload Image of ID Proof  \n",
       "0                            \n",
       "1                            \n",
       "2                            \n",
       "3                            \n",
       "4                            \n",
       "\n",
       "[5 rows x 41 columns]"
      ]
     },
     "execution_count": 151,
     "metadata": {},
     "output_type": "execute_result"
    }
   ],
   "source": [
    "cust_df.head()"
   ]
  },
  {
   "cell_type": "code",
   "execution_count": 152,
   "id": "c1384a2b",
   "metadata": {},
   "outputs": [
    {
     "name": "stdout",
     "output_type": "stream",
     "text": [
      "{'S No': dtype('int64'), 'Outlet Id': dtype('int64'), 'Outlet Name': dtype('O'), 'Outlet Status': dtype('O'), 'User ID': dtype('int64'), 'User Name': dtype('O'), 'Outlet Address': dtype('O'), 'Area': dtype('O'), 'Warehouse': dtype('O'), 'ZONE': dtype('O'), 'Subzone': dtype('O'), 'KeyAccount': dtype('bool'), 'Approved': dtype('O'), 'Created On': dtype('O'), 'GST NO': dtype('O'), 'PAN NO': dtype('O'), 'Outlet Type': dtype('O'), 'Beat Id': dtype('O'), 'Beat Name': dtype('O'), 'Latitude': dtype('float64'), 'Longitude': dtype('float64'), 'Phone Number': dtype('int64'), 'Balance': dtype('int64'), 'City': dtype('O'), 'State': dtype('O'), 'District': dtype('O'), 'PIN': dtype('int64'), 'Cash/Credit': dtype('O'), 'Credit limit': dtype('int64'), 'Credit days': dtype('int64'), 'Source': dtype('O'), 'Outlet Image url': dtype('O'), 'Upload Shop Board Photo': dtype('O'), 'Upload Inside of Store Photo': dtype('O'), 'DL No 1': dtype('O'), 'DL No 2': dtype('O'), 'Capture Latest HUL Bill Image': dtype('O'), 'HUL Outlet Code': dtype('O'), 'Upload Shop Board Photo ': dtype('O'), 'Business Proof': dtype('O'), 'Upload Image of ID Proof': dtype('O')}\n"
     ]
    }
   ],
   "source": [
    "# Creating a dictionary of datatype of all columns in dataframe\n",
    "D = cust_df.dtypes.to_dict()\n",
    "print(D)"
   ]
  },
  {
   "cell_type": "code",
   "execution_count": 153,
   "id": "ea6b8fb3",
   "metadata": {},
   "outputs": [],
   "source": [
    "# Converting Integer column to string\n",
    "cust_df[['Phone Number','Outlet Id','User ID']] = cust_df[['Phone Number','Outlet Id','User ID']].astype(str)"
   ]
  },
  {
   "cell_type": "code",
   "execution_count": 154,
   "id": "cec03e5b",
   "metadata": {},
   "outputs": [
    {
     "name": "stdout",
     "output_type": "stream",
     "text": [
      "<class 'pandas.core.frame.DataFrame'>\n",
      "RangeIndex: 720 entries, 0 to 719\n",
      "Data columns (total 3 columns):\n",
      " #   Column        Non-Null Count  Dtype \n",
      "---  ------        --------------  ----- \n",
      " 0   Phone Number  720 non-null    object\n",
      " 1   Outlet Id     720 non-null    object\n",
      " 2   User ID       720 non-null    object\n",
      "dtypes: object(3)\n",
      "memory usage: 17.0+ KB\n"
     ]
    }
   ],
   "source": [
    "cust_df[['Phone Number','Outlet Id','User ID']].info()"
   ]
  },
  {
   "cell_type": "code",
   "execution_count": 155,
   "id": "1ce12fec",
   "metadata": {},
   "outputs": [
    {
     "data": {
      "text/plain": [
       "array(['GT Pharmacy', 'Grocery – General', 'Wholesale',\n",
       "       'ISS – Self Service Stores'], dtype=object)"
      ]
     },
     "execution_count": 155,
     "metadata": {},
     "output_type": "execute_result"
    }
   ],
   "source": [
    "# Displaying unique outlet types\n",
    "cust_df['Outlet Type'].unique()"
   ]
  },
  {
   "cell_type": "code",
   "execution_count": 156,
   "id": "2686f6ad",
   "metadata": {},
   "outputs": [
    {
     "data": {
      "text/plain": [
       "Outlet Type\n",
       "Grocery – General            482\n",
       "GT Pharmacy                  183\n",
       "Wholesale                     48\n",
       "ISS – Self Service Stores      7\n",
       "Name: count, dtype: int64"
      ]
     },
     "execution_count": 156,
     "metadata": {},
     "output_type": "execute_result"
    }
   ],
   "source": [
    "# Displaying the total number of Outlets of each type\n",
    "cust_df['Outlet Type'].value_counts()"
   ]
  },
  {
   "cell_type": "code",
   "execution_count": 157,
   "id": "f920a210",
   "metadata": {},
   "outputs": [
    {
     "data": {
      "text/plain": [
       "<Figure size 300x300 with 0 Axes>"
      ]
     },
     "execution_count": 157,
     "metadata": {},
     "output_type": "execute_result"
    },
    {
     "data": {
      "image/png": "[encoded data removed]",
      "text/plain": [
       "<Figure size 640x480 with 1 Axes>"
      ]
     },
     "metadata": {},
     "output_type": "display_data"
    },
    {
     "data": {
      "text/plain": [
       "<Figure size 300x300 with 0 Axes>"
      ]
     },
     "metadata": {},
     "output_type": "display_data"
    }
   ],
   "source": [
    "# Plotting a pie chart depicting the proportion of Outlet types\n",
    "plt.pie( cust_df['Outlet Type'].value_counts(), labels= cust_df['Outlet Type'].unique(),autopct='%1.1f%%' )\n",
    "plt.figure(figsize=(3,3))"
   ]
  },
  {
   "cell_type": "code",
   "execution_count": 158,
   "id": "7fb0fec8",
   "metadata": {},
   "outputs": [
    {
     "data": {
      "text/html": [
       "<div>\n",
       "<style scoped>\n",
       "    .dataframe tbody tr th:only-of-type {\n",
       "        vertical-align: middle;\n",
       "    }\n",
       "\n",
       "    .dataframe tbody tr th {\n",
       "        vertical-align: top;\n",
       "    }\n",
       "\n",
       "    .dataframe thead th {\n",
       "        text-align: right;\n",
       "    }\n",
       "</style>\n",
       "<table border=\"1\" class=\"dataframe\">\n",
       "  <thead>\n",
       "    <tr style=\"text-align: right;\">\n",
       "      <th></th>\n",
       "      <th>sum</th>\n",
       "    </tr>\n",
       "    <tr>\n",
       "      <th>Beat Name</th>\n",
       "      <th></th>\n",
       "    </tr>\n",
       "  </thead>\n",
       "  <tbody>\n",
       "    <tr>\n",
       "      <th>1100730887_Nagappanakeri</th>\n",
       "      <td>351538</td>\n",
       "    </tr>\n",
       "    <tr>\n",
       "      <th>1100730887_Sheshadripuram</th>\n",
       "      <td>143497</td>\n",
       "    </tr>\n",
       "    <tr>\n",
       "      <th>1100730887_N T road</th>\n",
       "      <td>134439</td>\n",
       "    </tr>\n",
       "  </tbody>\n",
       "</table>\n",
       "</div>"
      ],
      "text/plain": [
       "                              sum\n",
       "Beat Name                        \n",
       "1100730887_Nagappanakeri   351538\n",
       "1100730887_Sheshadripuram  143497\n",
       "1100730887_N T road        134439"
      ]
     },
     "execution_count": 158,
     "metadata": {},
     "output_type": "execute_result"
    }
   ],
   "source": [
    "# Displaying the top 3 beats with highest balances\n",
    "cust_df.groupby(['Beat Name'])['Balance'].agg(['sum']).sort_values(by=['sum'], ascending=False).head(3)"
   ]
  },
  {
   "cell_type": "code",
   "execution_count": 159,
   "id": "cc8a0877",
   "metadata": {},
   "outputs": [],
   "source": [
    "# Visualizing customer distribution across the city of Shimoga to determine coverage\n",
    "# shapefile - shimoga city map ( Source - KARNATAKA GEOGRAPHIC INFORMATION SYSTEM)\n",
    "shimoga_map = gpd.read_file('../data/1507_SHIVAMOGGA.shp')\n",
    "# changing coordinate reference system of map\n",
    "shimoga_map.to_crs(epsg=4326, inplace=True)"
   ]
  },
  {
   "cell_type": "code",
   "execution_count": 160,
   "id": "0c7a0c9f",
   "metadata": {},
   "outputs": [],
   "source": [
    "# Removing customers outside Shimoga city \n",
    "cust_df.drop(cust_df[cust_df['Latitude'] > 14].index, inplace=True)"
   ]
  },
  {
   "cell_type": "code",
   "execution_count": 161,
   "id": "af895d67",
   "metadata": {},
   "outputs": [
    {
     "data": {
      "image/png": "[encoded data removed]",
      "text/plain": [
       "<Figure size 500x500 with 1 Axes>"
      ]
     },
     "metadata": {},
     "output_type": "display_data"
    }
   ],
   "source": [
    "geometry = [Point(xy) for xy in zip(cust_df['Longitude'],cust_df['Latitude'])]\n",
    "gdf = gpd.GeoDataFrame(cust_df, geometry=geometry, crs=\"epsg:4386\")\n",
    "fig,ax = plt.subplots(figsize = (5,5))\n",
    "# Plotting map of Shimoga city\n",
    "shimoga_map.plot(ax = ax,color='lightgray')\n",
    "# Plotting customer locations in the city\n",
    "g = gdf.plot(ax = ax, markersize = 1, color = 'red',marker = '*',label = 'Shimoga')\n",
    "plt.show()"
   ]
  },
  {
   "cell_type": "code",
   "execution_count": 168,
   "id": "198ed547",
   "metadata": {},
   "outputs": [
    {
     "name": "stderr",
     "output_type": "stream",
     "text": [
      "'export' is not recognized as an internal or external command,\n",
      "operable program or batch file.\n"
     ]
    }
   ],
   "source": [
    "!export PATH=/Library/TeX/texbin:$PATH"
   ]
  },
  {
   "cell_type": "code",
   "execution_count": 167,
   "id": "3b478aab",
   "metadata": {},
   "outputs": [
    {
     "name": "stderr",
     "output_type": "stream",
     "text": [
      "UsageError: Line magic function `%sudo` not found.\n"
     ]
    }
   ],
   "source": [
    "%sudo apt-get install texlive-xetex texlive-fonts-recommended texlive-plain-generic"
   ]
  },
  {
   "cell_type": "code",
   "execution_count": null,
   "id": "96f15aed",
   "metadata": {},
   "outputs": [],
   "source": []
  }
 ],
 "metadata": {
  "kernelspec": {
   "display_name": "Python 3 (ipykernel)",
   "language": "python",
   "name": "python3"
  },
  "language_info": {
   "codemirror_mode": {
    "name": "ipython",
    "version": 3
   },
   "file_extension": ".py",
   "mimetype": "text/x-python",
   "name": "python",
   "nbconvert_exporter": "python",
   "pygments_lexer": "ipython3",
   "version": "3.11.5"
  }
 },
 "nbformat": 4,
 "nbformat_minor": 5
}
