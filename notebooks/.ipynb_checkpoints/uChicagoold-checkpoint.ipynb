{
 "cells": [
  {
   "cell_type": "code",
   "execution_count": 1,
   "metadata": {},
   "outputs": [],
   "source": [
    "# Program to analyse Customer dataset\n",
    "#\n",
    "# Smruthi Javagal Vasudeva\n",
    "# \n",
    "# For demonstration purposes only\n",
    "\n",
    "import pandas as pd\n",
    "import matplotlib.pyplot as plt\n",
    "import geopandas as gpd\n",
    "from shapely.geometry import Point"
   ]
  },
  {
   "cell_type": "code",
   "execution_count": 3,
   "metadata": {},
   "outputs": [],
   "source": [
    "# Ingesting customer dataset from csv format (Source : Smruthi Sales)\n",
    "cust_df = pd.read_csv('../data/Customer.csv')"
   ]
  },
  {
   "cell_type": "code",
   "execution_count": 4,
   "metadata": {},
   "outputs": [],
   "source": [
    "# Dropping columns with null values\n",
    "cust_df.dropna(axis=1, inplace=True)"
   ]
  },
  {
   "cell_type": "code",
   "execution_count": 139,
   "metadata": {},
   "outputs": [
    {
     "data": {
      "text/plain": [
       "0    Seetharam medical stores\n",
       "1      shetty medicals Stores\n",
       "Name: Outlet Name, dtype: object"
      ]
     },
     "execution_count": 139,
     "metadata": {},
     "output_type": "execute_result"
    }
   ],
   "source": [
    "cust_df['Outlet Name'].head(2)"
   ]
  },
  {
   "cell_type": "code",
   "execution_count": null,
   "metadata": {},
   "outputs": [],
   "source": []
  },
  {
   "cell_type": "code",
   "execution_count": 140,
   "metadata": {},
   "outputs": [
    {
     "data": {
      "text/plain": [
       "0    Seetharam medical stores\n",
       "1      Shetty medicals stores\n",
       "Name: Outlet Name, dtype: object"
      ]
     },
     "execution_count": 140,
     "metadata": {},
     "output_type": "execute_result"
    }
   ],
   "source": [
    "# Function to capitalise strings in dataframe \n",
    "def capitalise_str(df):\n",
    "    return df.str.capitalize()\n",
    "\n",
    "cust_df['Outlet Name'] = capitalise_str(cust_df['Outlet Name'])\n",
    "cust_df['Outlet Name'].head(2)"
   ]
  },
  {
   "cell_type": "code",
   "execution_count": 141,
   "metadata": {},
   "outputs": [
    {
     "name": "stdout",
     "output_type": "stream",
     "text": [
      "int64\n"
     ]
    }
   ],
   "source": [
    "# Creating a dictionary of datatype of all columns in dataframe\n",
    "D = cust_df.dtypes.to_dict()\n",
    "print (D['Phone Number'])"
   ]
  },
  {
   "cell_type": "code",
   "execution_count": 142,
   "metadata": {},
   "outputs": [],
   "source": [
    "# Converting Integer column to string\n",
    "cust_df['Phone Number'] = cust_df['Phone Number'].astype(str)"
   ]
  },
  {
   "cell_type": "code",
   "execution_count": 143,
   "metadata": {},
   "outputs": [
    {
     "data": {
      "text/plain": [
       "Grocery – General            482\n",
       "GT Pharmacy                  183\n",
       "Wholesale                     48\n",
       "ISS – Self Service Stores      7\n",
       "Name: Outlet Type, dtype: int64"
      ]
     },
     "execution_count": 143,
     "metadata": {},
     "output_type": "execute_result"
    }
   ],
   "source": [
    "# Displaying the total number of Outlets of each type\n",
    "cust_df['Outlet Type'].value_counts()"
   ]
  },
  {
   "cell_type": "code",
   "execution_count": 149,
   "metadata": {},
   "outputs": [
    {
     "data": {
      "text/html": [
       "<div>\n",
       "<style scoped>\n",
       "    .dataframe tbody tr th:only-of-type {\n",
       "        vertical-align: middle;\n",
       "    }\n",
       "\n",
       "    .dataframe tbody tr th {\n",
       "        vertical-align: top;\n",
       "    }\n",
       "\n",
       "    .dataframe thead th {\n",
       "        text-align: right;\n",
       "    }\n",
       "</style>\n",
       "<table border=\"1\" class=\"dataframe\">\n",
       "  <thead>\n",
       "    <tr style=\"text-align: right;\">\n",
       "      <th></th>\n",
       "      <th>Beat Name</th>\n",
       "      <th>Balance</th>\n",
       "    </tr>\n",
       "  </thead>\n",
       "  <tbody>\n",
       "    <tr>\n",
       "      <th>2</th>\n",
       "      <td>1100730887_Nagappanakeri</td>\n",
       "      <td>351538</td>\n",
       "    </tr>\n",
       "    <tr>\n",
       "      <th>4</th>\n",
       "      <td>1100730887_Sheshadripuram</td>\n",
       "      <td>143497</td>\n",
       "    </tr>\n",
       "    <tr>\n",
       "      <th>1</th>\n",
       "      <td>1100730887_N T road</td>\n",
       "      <td>134439</td>\n",
       "    </tr>\n",
       "  </tbody>\n",
       "</table>\n",
       "</div>"
      ],
      "text/plain": [
       "                   Beat Name  Balance\n",
       "2   1100730887_Nagappanakeri   351538\n",
       "4  1100730887_Sheshadripuram   143497\n",
       "1        1100730887_N T road   134439"
      ]
     },
     "execution_count": 149,
     "metadata": {},
     "output_type": "execute_result"
    }
   ],
   "source": [
    "# Finding the total Balances for each Beat\n",
    "cust2 = cust_df.groupby(['Beat Name'])['Balance'].agg(['sum'])\n",
    "cust2 = cust2.rename(columns={'sum':'Balance'}).reset_index()\n",
    "# Displaying the top 3 beats with highest balances\n",
    "cust2.sort_values(by=['Balance'], ascending=False).head(3)"
   ]
  },
  {
   "cell_type": "code",
   "execution_count": 145,
   "metadata": {},
   "outputs": [],
   "source": [
    "# shapefile - shimoga city map ( Source - KARNATAKA GEOGRAPHIC INFORMATION SYSTEM)\n",
    "shimoga_map = gpd.read_file('data/1507_SHIVAMOGGA.shp')\n",
    "# changing coordinate reference system of map\n",
    "shimoga_map.to_crs(epsg=4326, inplace=True)"
   ]
  },
  {
   "cell_type": "code",
   "execution_count": 146,
   "metadata": {},
   "outputs": [],
   "source": [
    "# Removing customers from outside shimoga city\n",
    "cust_df = cust_df.drop(cust_df[cust_df['Latitude'] > 14].index)"
   ]
  },
  {
   "cell_type": "code",
   "execution_count": 147,
   "metadata": {},
   "outputs": [],
   "source": [
    "geometry = [Point(xy) for xy in zip(cust_df['Longitude'],cust_df['Latitude'])]\n",
    "gdf = gpd.GeoDataFrame(cust_df, geometry=geometry, crs=\"epsg:4386\")"
   ]
  },
  {
   "cell_type": "code",
   "execution_count": 148,
   "metadata": {},
   "outputs": [
    {
     "data": {
      "image/png": "[encoded data removed]",
      "text/plain": [
       "<Figure size 300x300 with 1 Axes>"
      ]
     },
     "metadata": {},
     "output_type": "display_data"
    }
   ],
   "source": [
    "fig,ax = plt.subplots(figsize = (3,3))\n",
    "# Plotting map of Shimoga city\n",
    "shimoga_map.plot(ax = ax,color='lightgray')\n",
    "# Plotting customer locations in the city\n",
    "g = gdf.plot(ax = ax, markersize = 1, color = 'red',marker = '*',label = 'Shimoga')"
   ]
  }
 ],
 "metadata": {
  "kernelspec": {
   "display_name": "Python 3 (ipykernel)",
   "language": "python",
   "name": "python3"
  },
  "language_info": {
   "codemirror_mode": {
    "name": "ipython",
    "version": 3
   },
   "file_extension": ".py",
   "mimetype": "text/x-python",
   "name": "python",
   "nbconvert_exporter": "python",
   "pygments_lexer": "ipython3",
   "version": "3.11.5"
  }
 },
 "nbformat": 4,
 "nbformat_minor": 4
}
