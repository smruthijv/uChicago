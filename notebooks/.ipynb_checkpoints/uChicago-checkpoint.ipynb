{
 "cells": [
  {
   "cell_type": "code",
   "execution_count": 1,
   "id": "f65ad275",
   "metadata": {},
   "outputs": [],
   "source": [
    "# Program to analyse Customer dataset\n",
    "#\n",
    "# Smruthi Javagal Vasudeva\n",
    "# \n",
    "# For demonstration purposes only (Git Link : https://github.com/smruthijv/uChicago)\n",
    "\n",
    "import pandas as pd\n",
    "import numpy as np\n",
    "import matplotlib.pyplot as plt\n",
    "import geopandas as gpd\n",
    "from shapely.geometry import Point\n",
    "import pandas.api.types as ty"
   ]
  },
  {
   "cell_type": "code",
   "execution_count": 2,
   "id": "829af46c",
   "metadata": {},
   "outputs": [],
   "source": [
    "# Ingesting customer dataset from csv format (Source : Smruthi Sales)\n",
    "cust_df = pd.read_csv('../data/Customer.csv')"
   ]
  },
  {
   "cell_type": "code",
   "execution_count": null,
   "id": "d5d04f53",
   "metadata": {},
   "outputs": [],
   "source": [
    "# Printing dataframe information (Output cleared to save space in pdf)\n",
    "cust_df.info()"
   ]
  },
  {
   "cell_type": "code",
   "execution_count": 4,
   "id": "76fcb192",
   "metadata": {},
   "outputs": [],
   "source": [
    "# Converting Integer column to string\n",
    "cust_df[['Phone Number','Outlet Id','User ID']] = cust_df[['Phone Number','Outlet Id','User ID']].astype(str)"
   ]
  },
  {
   "cell_type": "code",
   "execution_count": 5,
   "id": "cda11165",
   "metadata": {},
   "outputs": [],
   "source": [
    "def remove_null_values(df, key_column):\n",
    "    '''Function to clean null values in dataframe\n",
    "       Input : Dataframe, Key Column\n",
    "    '''\n",
    "    df.dropna(subset=[key_column], inplace=True)\n",
    "    df.dropna(axis=1, inplace=True, how='all')\n",
    "    \n",
    "    # Replacing null values based on datatype of column\n",
    "    for column in df: \n",
    "        if ty.is_bool_dtype(df[column]):\n",
    "            df[column].fillna(False, inplace=True)\n",
    "        elif ( ty.is_float_dtype(df[column]) or ty.is_integer_dtype(df[column])):\n",
    "            df[column].fillna(0, inplace=True)\n",
    "        else: \n",
    "            df[column].fillna(\"\", inplace=True)"
   ]
  },
  {
   "cell_type": "code",
   "execution_count": 6,
   "id": "fcddc8ba",
   "metadata": {
    "scrolled": false
   },
   "outputs": [],
   "source": [
    "#Function call\n",
    "remove_null_values(cust_df,'Outlet Id')  "
   ]
  },
  {
   "cell_type": "code",
   "execution_count": 7,
   "id": "2fa95970",
   "metadata": {},
   "outputs": [],
   "source": [
    "# Removing duplicates from data\n",
    "cust_df.drop_duplicates(inplace=True)"
   ]
  },
  {
   "cell_type": "code",
   "execution_count": 8,
   "id": "03d7d8dd",
   "metadata": {},
   "outputs": [
    {
     "data": {
      "text/html": [
       "<div>\n",
       "<style scoped>\n",
       "    .dataframe tbody tr th:only-of-type {\n",
       "        vertical-align: middle;\n",
       "    }\n",
       "\n",
       "    .dataframe tbody tr th {\n",
       "        vertical-align: top;\n",
       "    }\n",
       "\n",
       "    .dataframe thead th {\n",
       "        text-align: right;\n",
       "    }\n",
       "</style>\n",
       "<table border=\"1\" class=\"dataframe\">\n",
       "  <thead>\n",
       "    <tr style=\"text-align: right;\">\n",
       "      <th></th>\n",
       "      <th>S No</th>\n",
       "      <th>Outlet Id</th>\n",
       "      <th>Outlet Name</th>\n",
       "      <th>Outlet Status</th>\n",
       "      <th>User ID</th>\n",
       "      <th>User Name</th>\n",
       "      <th>Outlet Address</th>\n",
       "      <th>Area</th>\n",
       "      <th>Warehouse</th>\n",
       "      <th>ZONE</th>\n",
       "      <th>...</th>\n",
       "      <th>Outlet Image url</th>\n",
       "      <th>Upload Shop Board Photo</th>\n",
       "      <th>Upload Inside of Store Photo</th>\n",
       "      <th>DL No 1</th>\n",
       "      <th>DL No 2</th>\n",
       "      <th>Capture Latest HUL Bill Image</th>\n",
       "      <th>HUL Outlet Code</th>\n",
       "      <th>Upload Shop Board Photo</th>\n",
       "      <th>Business Proof</th>\n",
       "      <th>Upload Image of ID Proof</th>\n",
       "    </tr>\n",
       "  </thead>\n",
       "  <tbody>\n",
       "    <tr>\n",
       "      <th>0</th>\n",
       "      <td>1</td>\n",
       "      <td>150345</td>\n",
       "      <td>Seetharam medical stores</td>\n",
       "      <td>Active</td>\n",
       "      <td>2004</td>\n",
       "      <td>M Pradeep</td>\n",
       "      <td>Opposite KSRTC Bustand NT Road</td>\n",
       "      <td>1100730887_ASI 1</td>\n",
       "      <td>SMRUTHI SALES</td>\n",
       "      <td>South</td>\n",
       "      <td>...</td>\n",
       "      <td></td>\n",
       "      <td>https://outletimages.s3.ap-southeast-1.amazona...</td>\n",
       "      <td>https://outletimages.s3.ap-southeast-1.amazona...</td>\n",
       "      <td>KA SG1 193265</td>\n",
       "      <td>KA SG1 193266</td>\n",
       "      <td>https://s3-ap-southeast-1.amazonaws.com/outlet...</td>\n",
       "      <td></td>\n",
       "      <td></td>\n",
       "      <td></td>\n",
       "      <td></td>\n",
       "    </tr>\n",
       "    <tr>\n",
       "      <th>1</th>\n",
       "      <td>2</td>\n",
       "      <td>150421</td>\n",
       "      <td>shetty medicals Stores</td>\n",
       "      <td>Active</td>\n",
       "      <td>2004</td>\n",
       "      <td>M Pradeep</td>\n",
       "      <td>Neela Prastha kasetty Building BH Road shimoga</td>\n",
       "      <td>SMRUTHI SALES</td>\n",
       "      <td>SMRUTHI SALES</td>\n",
       "      <td>South</td>\n",
       "      <td>...</td>\n",
       "      <td></td>\n",
       "      <td>https://outletimages.s3.ap-southeast-1.amazona...</td>\n",
       "      <td>https://outletimages.s3.ap-southeast-1.amazona...</td>\n",
       "      <td>Ka sg1 231219</td>\n",
       "      <td>Ka sg1 231220</td>\n",
       "      <td></td>\n",
       "      <td></td>\n",
       "      <td></td>\n",
       "      <td></td>\n",
       "      <td></td>\n",
       "    </tr>\n",
       "    <tr>\n",
       "      <th>2</th>\n",
       "      <td>3</td>\n",
       "      <td>150480</td>\n",
       "      <td>Sri Seetharam Medicals</td>\n",
       "      <td>Active</td>\n",
       "      <td>2004</td>\n",
       "      <td>M Pradeep</td>\n",
       "      <td>Hanumanthappa Arcade Near Vinayaka Talkes BH R...</td>\n",
       "      <td>1100730887_ASI 1</td>\n",
       "      <td>SMRUTHI SALES</td>\n",
       "      <td>South</td>\n",
       "      <td>...</td>\n",
       "      <td></td>\n",
       "      <td>https://outletimages.s3.ap-southeast-1.amazona...</td>\n",
       "      <td>https://outletimages.s3.ap-southeast-1.amazona...</td>\n",
       "      <td>KA SMG 20/21/949</td>\n",
       "      <td>KA SMG 20/21/949</td>\n",
       "      <td></td>\n",
       "      <td></td>\n",
       "      <td></td>\n",
       "      <td></td>\n",
       "      <td></td>\n",
       "    </tr>\n",
       "    <tr>\n",
       "      <th>3</th>\n",
       "      <td>4</td>\n",
       "      <td>151295</td>\n",
       "      <td>Amrutha Medicals</td>\n",
       "      <td>Active</td>\n",
       "      <td>2004</td>\n",
       "      <td>M Pradeep</td>\n",
       "      <td>Tank mohalla Shimoga</td>\n",
       "      <td>1100730887_ASI 1</td>\n",
       "      <td>SMRUTHI SALES</td>\n",
       "      <td>South</td>\n",
       "      <td>...</td>\n",
       "      <td></td>\n",
       "      <td>https://outletimages.s3.ap-southeast-1.amazona...</td>\n",
       "      <td>https://outletimages.s3.ap-southeast-1.amazona...</td>\n",
       "      <td>KA/SMG/20/21/737</td>\n",
       "      <td>KA/SMG/20/21/737</td>\n",
       "      <td></td>\n",
       "      <td></td>\n",
       "      <td></td>\n",
       "      <td></td>\n",
       "      <td></td>\n",
       "    </tr>\n",
       "    <tr>\n",
       "      <th>4</th>\n",
       "      <td>5</td>\n",
       "      <td>151306</td>\n",
       "      <td>Joshi Medicals</td>\n",
       "      <td>Active</td>\n",
       "      <td>2004</td>\n",
       "      <td>M Pradeep</td>\n",
       "      <td>Opposite Shimoga Rice mill 9Th cross Bapuji Na...</td>\n",
       "      <td>1100730887_ASI 1</td>\n",
       "      <td>SMRUTHI SALES</td>\n",
       "      <td>South</td>\n",
       "      <td>...</td>\n",
       "      <td></td>\n",
       "      <td>https://outletimages.s3.ap-southeast-1.amazona...</td>\n",
       "      <td>https://outletimages.s3.ap-southeast-1.amazona...</td>\n",
       "      <td>KA SG1 241148</td>\n",
       "      <td>KA SG1 241149</td>\n",
       "      <td></td>\n",
       "      <td></td>\n",
       "      <td></td>\n",
       "      <td></td>\n",
       "      <td></td>\n",
       "    </tr>\n",
       "  </tbody>\n",
       "</table>\n",
       "<p>5 rows × 41 columns</p>\n",
       "</div>"
      ],
      "text/plain": [
       "   S No Outlet Id               Outlet Name Outlet Status User ID  User Name  \\\n",
       "0     1    150345  Seetharam medical stores        Active    2004  M Pradeep   \n",
       "1     2    150421    shetty medicals Stores        Active    2004  M Pradeep   \n",
       "2     3    150480    Sri Seetharam Medicals        Active    2004  M Pradeep   \n",
       "3     4    151295          Amrutha Medicals        Active    2004  M Pradeep   \n",
       "4     5    151306            Joshi Medicals        Active    2004  M Pradeep   \n",
       "\n",
       "                                      Outlet Address              Area  \\\n",
       "0                     Opposite KSRTC Bustand NT Road  1100730887_ASI 1   \n",
       "1     Neela Prastha kasetty Building BH Road shimoga     SMRUTHI SALES   \n",
       "2  Hanumanthappa Arcade Near Vinayaka Talkes BH R...  1100730887_ASI 1   \n",
       "3                               Tank mohalla Shimoga  1100730887_ASI 1   \n",
       "4  Opposite Shimoga Rice mill 9Th cross Bapuji Na...  1100730887_ASI 1   \n",
       "\n",
       "       Warehouse   ZONE  ... Outlet Image url  \\\n",
       "0  SMRUTHI SALES  South  ...                    \n",
       "1  SMRUTHI SALES  South  ...                    \n",
       "2  SMRUTHI SALES  South  ...                    \n",
       "3  SMRUTHI SALES  South  ...                    \n",
       "4  SMRUTHI SALES  South  ...                    \n",
       "\n",
       "                             Upload Shop Board Photo  \\\n",
       "0  https://outletimages.s3.ap-southeast-1.amazona...   \n",
       "1  https://outletimages.s3.ap-southeast-1.amazona...   \n",
       "2  https://outletimages.s3.ap-southeast-1.amazona...   \n",
       "3  https://outletimages.s3.ap-southeast-1.amazona...   \n",
       "4  https://outletimages.s3.ap-southeast-1.amazona...   \n",
       "\n",
       "                        Upload Inside of Store Photo           DL No 1  \\\n",
       "0  https://outletimages.s3.ap-southeast-1.amazona...     KA SG1 193265   \n",
       "1  https://outletimages.s3.ap-southeast-1.amazona...     Ka sg1 231219   \n",
       "2  https://outletimages.s3.ap-southeast-1.amazona...  KA SMG 20/21/949   \n",
       "3  https://outletimages.s3.ap-southeast-1.amazona...  KA/SMG/20/21/737   \n",
       "4  https://outletimages.s3.ap-southeast-1.amazona...     KA SG1 241148   \n",
       "\n",
       "            DL No 2                      Capture Latest HUL Bill Image  \\\n",
       "0     KA SG1 193266  https://s3-ap-southeast-1.amazonaws.com/outlet...   \n",
       "1     Ka sg1 231220                                                      \n",
       "2  KA SMG 20/21/949                                                      \n",
       "3  KA/SMG/20/21/737                                                      \n",
       "4     KA SG1 241149                                                      \n",
       "\n",
       "  HUL Outlet Code Upload Shop Board Photo  Business Proof  \\\n",
       "0                                                           \n",
       "1                                                           \n",
       "2                                                           \n",
       "3                                                           \n",
       "4                                                           \n",
       "\n",
       "   Upload Image of ID Proof  \n",
       "0                            \n",
       "1                            \n",
       "2                            \n",
       "3                            \n",
       "4                            \n",
       "\n",
       "[5 rows x 41 columns]"
      ]
     },
     "execution_count": 8,
     "metadata": {},
     "output_type": "execute_result"
    }
   ],
   "source": [
    "cust_df.head()"
   ]
  },
  {
   "cell_type": "code",
   "execution_count": 9,
   "id": "50b2f322",
   "metadata": {},
   "outputs": [
    {
     "data": {
      "text/plain": [
       "0    Seetharam medical stores\n",
       "1      Shetty medicals stores\n",
       "Name: Outlet Name, dtype: object"
      ]
     },
     "execution_count": 9,
     "metadata": {},
     "output_type": "execute_result"
    }
   ],
   "source": [
    "# Function to capitalise strings in dataframe \n",
    "def capitalise_str(df):\n",
    "    return df.str.capitalize()\n",
    "\n",
    "cust_df['Outlet Name'] = capitalise_str(cust_df['Outlet Name'])\n",
    "cust_df['Outlet Name'].head(2)"
   ]
  },
  {
   "cell_type": "code",
   "execution_count": 10,
   "id": "bc72b69d",
   "metadata": {},
   "outputs": [
    {
     "data": {
      "text/plain": [
       "<Figure size 300x300 with 0 Axes>"
      ]
     },
     "execution_count": 10,
     "metadata": {},
     "output_type": "execute_result"
    },
    {
     "data": {
      "image/png": "[encoded data removed]",
      "text/plain": [
       "<Figure size 640x480 with 1 Axes>"
      ]
     },
     "metadata": {},
     "output_type": "display_data"
    },
    {
     "data": {
      "text/plain": [
       "<Figure size 300x300 with 0 Axes>"
      ]
     },
     "metadata": {},
     "output_type": "display_data"
    }
   ],
   "source": [
    "# Plotting a pie chart depicting the proportion of Outlet types\n",
    "plt.pie( cust_df['Outlet Type'].value_counts(), autopct='%1.1f%%' )\n",
    "plt.title( \"Outlet Types\")\n",
    "plt.legend(labels= cust_df['Outlet Type'].unique(), bbox_to_anchor=(1.05, 1))\n",
    "plt.figure(figsize=(3,3))\n"
   ]
  },
  {
   "cell_type": "code",
   "execution_count": 11,
   "id": "03234c3b",
   "metadata": {},
   "outputs": [
    {
     "data": {
      "text/html": [
       "<div>\n",
       "<style scoped>\n",
       "    .dataframe tbody tr th:only-of-type {\n",
       "        vertical-align: middle;\n",
       "    }\n",
       "\n",
       "    .dataframe tbody tr th {\n",
       "        vertical-align: top;\n",
       "    }\n",
       "\n",
       "    .dataframe thead th {\n",
       "        text-align: right;\n",
       "    }\n",
       "</style>\n",
       "<table border=\"1\" class=\"dataframe\">\n",
       "  <thead>\n",
       "    <tr style=\"text-align: right;\">\n",
       "      <th></th>\n",
       "      <th>Beat Name</th>\n",
       "      <th>Balance</th>\n",
       "    </tr>\n",
       "  </thead>\n",
       "  <tbody>\n",
       "    <tr>\n",
       "      <th>0</th>\n",
       "      <td>1100730887_Nagappanakeri</td>\n",
       "      <td>351538</td>\n",
       "    </tr>\n",
       "    <tr>\n",
       "      <th>1</th>\n",
       "      <td>1100730887_Sheshadripuram</td>\n",
       "      <td>143497</td>\n",
       "    </tr>\n",
       "    <tr>\n",
       "      <th>2</th>\n",
       "      <td>1100730887_N T road</td>\n",
       "      <td>134439</td>\n",
       "    </tr>\n",
       "  </tbody>\n",
       "</table>\n",
       "</div>"
      ],
      "text/plain": [
       "                   Beat Name  Balance\n",
       "0   1100730887_Nagappanakeri   351538\n",
       "1  1100730887_Sheshadripuram   143497\n",
       "2        1100730887_N T road   134439"
      ]
     },
     "execution_count": 11,
     "metadata": {},
     "output_type": "execute_result"
    }
   ],
   "source": [
    "# Displaying the top 3 beats with highest balances\n",
    "cust_df.groupby(['Beat Name'])['Balance'].agg(['sum']).sort_values(by=['sum'], ascending=False).rename(columns={'sum':'Balance'}).reset_index().head(3)"
   ]
  },
  {
   "cell_type": "code",
   "execution_count": 12,
   "id": "8e284f5d",
   "metadata": {},
   "outputs": [],
   "source": [
    "# Visualizing customer distribution across the city of Shimoga to determine coverage\n",
    "# shapefile - shimoga city map ( Source - KARNATAKA GEOGRAPHIC INFORMATION SYSTEM)\n",
    "shimoga_map = gpd.read_file('../data/1507_SHIVAMOGGA.shp')\n",
    "# changing coordinate reference system of map\n",
    "shimoga_map.to_crs(epsg=4326, inplace=True)"
   ]
  },
  {
   "cell_type": "code",
   "execution_count": 13,
   "id": "55217c9c",
   "metadata": {},
   "outputs": [],
   "source": [
    "# Removing customers outside Shimoga city \n",
    "cust_df.drop(cust_df[cust_df['Latitude'] > 14].index, inplace=True)"
   ]
  },
  {
   "cell_type": "code",
   "execution_count": 14,
   "id": "fc08b72c",
   "metadata": {},
   "outputs": [
    {
     "data": {
      "image/png": "[encoded data removed]",
      "text/plain": [
       "<Figure size 500x500 with 1 Axes>"
      ]
     },
     "metadata": {},
     "output_type": "display_data"
    }
   ],
   "source": [
    "geometry = [Point(xy) for xy in zip(cust_df['Longitude'],cust_df['Latitude'])]\n",
    "gdf = gpd.GeoDataFrame(cust_df, geometry=geometry, crs=\"epsg:4386\")\n",
    "fig,ax = plt.subplots(figsize = (5,5))\n",
    "# Plotting map of Shimoga city\n",
    "shimoga_map.plot(ax = ax,color='lightgray')\n",
    "# Plotting customer locations in the city\n",
    "g = gdf.plot(ax = ax, markersize = 0.5, color = 'red',marker = '*')\n",
    "plt.title(\"Effective Coverage in Shimoga City\")\n",
    "plt.show()"
   ]
  }
 ],
 "metadata": {
  "kernelspec": {
   "display_name": "Python 3 (ipykernel)",
   "language": "python",
   "name": "python3"
  },
  "language_info": {
   "codemirror_mode": {
    "name": "ipython",
    "version": 3
   },
   "file_extension": ".py",
   "mimetype": "text/x-python",
   "name": "python",
   "nbconvert_exporter": "python",
   "pygments_lexer": "ipython3",
   "version": "3.11.5"
  }
 },
 "nbformat": 4,
 "nbformat_minor": 5
}
